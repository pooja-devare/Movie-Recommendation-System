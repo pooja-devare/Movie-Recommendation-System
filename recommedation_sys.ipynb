{
 "cells": [
  {
   "cell_type": "markdown",
   "metadata": {},
   "source": [
    "importing libraries"
   ]
  },
  {
   "cell_type": "code",
   "execution_count": 1,
   "metadata": {},
   "outputs": [],
   "source": [
    "import pandas as pd\n",
    "import numpy as np\n",
    "import matplotlib.pyplot as plt"
   ]
  },
  {
   "cell_type": "markdown",
   "metadata": {},
   "source": [
    "importing datasets"
   ]
  },
  {
   "cell_type": "code",
   "execution_count": 2,
   "metadata": {},
   "outputs": [
    {
     "name": "stdout",
     "output_type": "stream",
     "text": [
      "      movie_id                                     title  \\\n",
      "0        19995                                    Avatar   \n",
      "1          285  Pirates of the Caribbean: At World's End   \n",
      "2       206647                                   Spectre   \n",
      "3        49026                     The Dark Knight Rises   \n",
      "4        49529                               John Carter   \n",
      "...        ...                                       ...   \n",
      "4798      9367                               El Mariachi   \n",
      "4799     72766                                 Newlyweds   \n",
      "4800    231617                 Signed, Sealed, Delivered   \n",
      "4801    126186                          Shanghai Calling   \n",
      "4802     25975                         My Date with Drew   \n",
      "\n",
      "                                                   cast  \\\n",
      "0     [{\"cast_id\": 242, \"character\": \"Jake Sully\", \"...   \n",
      "1     [{\"cast_id\": 4, \"character\": \"Captain Jack Spa...   \n",
      "2     [{\"cast_id\": 1, \"character\": \"James Bond\", \"cr...   \n",
      "3     [{\"cast_id\": 2, \"character\": \"Bruce Wayne / Ba...   \n",
      "4     [{\"cast_id\": 5, \"character\": \"John Carter\", \"c...   \n",
      "...                                                 ...   \n",
      "4798  [{\"cast_id\": 1, \"character\": \"El Mariachi\", \"c...   \n",
      "4799  [{\"cast_id\": 1, \"character\": \"Buzzy\", \"credit_...   \n",
      "4800  [{\"cast_id\": 8, \"character\": \"Oliver O\\u2019To...   \n",
      "4801  [{\"cast_id\": 3, \"character\": \"Sam\", \"credit_id...   \n",
      "4802  [{\"cast_id\": 3, \"character\": \"Herself\", \"credi...   \n",
      "\n",
      "                                                   crew  \n",
      "0     [{\"credit_id\": \"52fe48009251416c750aca23\", \"de...  \n",
      "1     [{\"credit_id\": \"52fe4232c3a36847f800b579\", \"de...  \n",
      "2     [{\"credit_id\": \"54805967c3a36829b5002c41\", \"de...  \n",
      "3     [{\"credit_id\": \"52fe4781c3a36847f81398c3\", \"de...  \n",
      "4     [{\"credit_id\": \"52fe479ac3a36847f813eaa3\", \"de...  \n",
      "...                                                 ...  \n",
      "4798  [{\"credit_id\": \"52fe44eec3a36847f80b280b\", \"de...  \n",
      "4799  [{\"credit_id\": \"52fe487dc3a368484e0fb013\", \"de...  \n",
      "4800  [{\"credit_id\": \"52fe4df3c3a36847f8275ecf\", \"de...  \n",
      "4801  [{\"credit_id\": \"52fe4ad9c3a368484e16a36b\", \"de...  \n",
      "4802  [{\"credit_id\": \"58ce021b9251415a390165d9\", \"de...  \n",
      "\n",
      "[4803 rows x 4 columns]\n",
      "         budget                                             genres  \\\n",
      "0     237000000  [{\"id\": 28, \"name\": \"Action\"}, {\"id\": 12, \"nam...   \n",
      "1     300000000  [{\"id\": 12, \"name\": \"Adventure\"}, {\"id\": 14, \"...   \n",
      "2     245000000  [{\"id\": 28, \"name\": \"Action\"}, {\"id\": 12, \"nam...   \n",
      "3     250000000  [{\"id\": 28, \"name\": \"Action\"}, {\"id\": 80, \"nam...   \n",
      "4     260000000  [{\"id\": 28, \"name\": \"Action\"}, {\"id\": 12, \"nam...   \n",
      "...         ...                                                ...   \n",
      "4798     220000  [{\"id\": 28, \"name\": \"Action\"}, {\"id\": 80, \"nam...   \n",
      "4799       9000  [{\"id\": 35, \"name\": \"Comedy\"}, {\"id\": 10749, \"...   \n",
      "4800          0  [{\"id\": 35, \"name\": \"Comedy\"}, {\"id\": 18, \"nam...   \n",
      "4801          0                                                 []   \n",
      "4802          0                [{\"id\": 99, \"name\": \"Documentary\"}]   \n",
      "\n",
      "                                               homepage      id  \\\n",
      "0                           http://www.avatarmovie.com/   19995   \n",
      "1          http://disney.go.com/disneypictures/pirates/     285   \n",
      "2           http://www.sonypictures.com/movies/spectre/  206647   \n",
      "3                    http://www.thedarkknightrises.com/   49026   \n",
      "4                  http://movies.disney.com/john-carter   49529   \n",
      "...                                                 ...     ...   \n",
      "4798                                                NaN    9367   \n",
      "4799                                                NaN   72766   \n",
      "4800  http://www.hallmarkchannel.com/signedsealeddel...  231617   \n",
      "4801                        http://shanghaicalling.com/  126186   \n",
      "4802                                                NaN   25975   \n",
      "\n",
      "                                               keywords original_language  \\\n",
      "0     [{\"id\": 1463, \"name\": \"culture clash\"}, {\"id\":...                en   \n",
      "1     [{\"id\": 270, \"name\": \"ocean\"}, {\"id\": 726, \"na...                en   \n",
      "2     [{\"id\": 470, \"name\": \"spy\"}, {\"id\": 818, \"name...                en   \n",
      "3     [{\"id\": 849, \"name\": \"dc comics\"}, {\"id\": 853,...                en   \n",
      "4     [{\"id\": 818, \"name\": \"based on novel\"}, {\"id\":...                en   \n",
      "...                                                 ...               ...   \n",
      "4798  [{\"id\": 5616, \"name\": \"united states\\u2013mexi...                es   \n",
      "4799                                                 []                en   \n",
      "4800  [{\"id\": 248, \"name\": \"date\"}, {\"id\": 699, \"nam...                en   \n",
      "4801                                                 []                en   \n",
      "4802  [{\"id\": 1523, \"name\": \"obsession\"}, {\"id\": 224...                en   \n",
      "\n",
      "                                original_title  \\\n",
      "0                                       Avatar   \n",
      "1     Pirates of the Caribbean: At World's End   \n",
      "2                                      Spectre   \n",
      "3                        The Dark Knight Rises   \n",
      "4                                  John Carter   \n",
      "...                                        ...   \n",
      "4798                               El Mariachi   \n",
      "4799                                 Newlyweds   \n",
      "4800                 Signed, Sealed, Delivered   \n",
      "4801                          Shanghai Calling   \n",
      "4802                         My Date with Drew   \n",
      "\n",
      "                                               overview  popularity  \\\n",
      "0     In the 22nd century, a paraplegic Marine is di...  150.437577   \n",
      "1     Captain Barbossa, long believed to be dead, ha...  139.082615   \n",
      "2     A cryptic message from Bond’s past sends him o...  107.376788   \n",
      "3     Following the death of District Attorney Harve...  112.312950   \n",
      "4     John Carter is a war-weary, former military ca...   43.926995   \n",
      "...                                                 ...         ...   \n",
      "4798  El Mariachi just wants to play his guitar and ...   14.269792   \n",
      "4799  A newlywed couple's honeymoon is upended by th...    0.642552   \n",
      "4800  \"Signed, Sealed, Delivered\" introduces a dedic...    1.444476   \n",
      "4801  When ambitious New York attorney Sam is sent t...    0.857008   \n",
      "4802  Ever since the second grade when he first saw ...    1.929883   \n",
      "\n",
      "                                   production_companies  \\\n",
      "0     [{\"name\": \"Ingenious Film Partners\", \"id\": 289...   \n",
      "1     [{\"name\": \"Walt Disney Pictures\", \"id\": 2}, {\"...   \n",
      "2     [{\"name\": \"Columbia Pictures\", \"id\": 5}, {\"nam...   \n",
      "3     [{\"name\": \"Legendary Pictures\", \"id\": 923}, {\"...   \n",
      "4           [{\"name\": \"Walt Disney Pictures\", \"id\": 2}]   \n",
      "...                                                 ...   \n",
      "4798           [{\"name\": \"Columbia Pictures\", \"id\": 5}]   \n",
      "4799                                                 []   \n",
      "4800  [{\"name\": \"Front Street Pictures\", \"id\": 3958}...   \n",
      "4801                                                 []   \n",
      "4802  [{\"name\": \"rusty bear entertainment\", \"id\": 87...   \n",
      "\n",
      "                                   production_countries release_date  \\\n",
      "0     [{\"iso_3166_1\": \"US\", \"name\": \"United States o...   2009-12-10   \n",
      "1     [{\"iso_3166_1\": \"US\", \"name\": \"United States o...   2007-05-19   \n",
      "2     [{\"iso_3166_1\": \"GB\", \"name\": \"United Kingdom\"...   2015-10-26   \n",
      "3     [{\"iso_3166_1\": \"US\", \"name\": \"United States o...   2012-07-16   \n",
      "4     [{\"iso_3166_1\": \"US\", \"name\": \"United States o...   2012-03-07   \n",
      "...                                                 ...          ...   \n",
      "4798  [{\"iso_3166_1\": \"MX\", \"name\": \"Mexico\"}, {\"iso...   1992-09-04   \n",
      "4799                                                 []   2011-12-26   \n",
      "4800  [{\"iso_3166_1\": \"US\", \"name\": \"United States o...   2013-10-13   \n",
      "4801  [{\"iso_3166_1\": \"US\", \"name\": \"United States o...   2012-05-03   \n",
      "4802  [{\"iso_3166_1\": \"US\", \"name\": \"United States o...   2005-08-05   \n",
      "\n",
      "         revenue  runtime                                   spoken_languages  \\\n",
      "0     2787965087    162.0  [{\"iso_639_1\": \"en\", \"name\": \"English\"}, {\"iso...   \n",
      "1      961000000    169.0           [{\"iso_639_1\": \"en\", \"name\": \"English\"}]   \n",
      "2      880674609    148.0  [{\"iso_639_1\": \"fr\", \"name\": \"Fran\\u00e7ais\"},...   \n",
      "3     1084939099    165.0           [{\"iso_639_1\": \"en\", \"name\": \"English\"}]   \n",
      "4      284139100    132.0           [{\"iso_639_1\": \"en\", \"name\": \"English\"}]   \n",
      "...          ...      ...                                                ...   \n",
      "4798     2040920     81.0      [{\"iso_639_1\": \"es\", \"name\": \"Espa\\u00f1ol\"}]   \n",
      "4799           0     85.0                                                 []   \n",
      "4800           0    120.0           [{\"iso_639_1\": \"en\", \"name\": \"English\"}]   \n",
      "4801           0     98.0           [{\"iso_639_1\": \"en\", \"name\": \"English\"}]   \n",
      "4802           0     90.0           [{\"iso_639_1\": \"en\", \"name\": \"English\"}]   \n",
      "\n",
      "        status                                            tagline  \\\n",
      "0     Released                        Enter the World of Pandora.   \n",
      "1     Released     At the end of the world, the adventure begins.   \n",
      "2     Released                              A Plan No One Escapes   \n",
      "3     Released                                    The Legend Ends   \n",
      "4     Released               Lost in our world, found in another.   \n",
      "...        ...                                                ...   \n",
      "4798  Released  He didn't come looking for trouble, but troubl...   \n",
      "4799  Released  A newlywed couple's honeymoon is upended by th...   \n",
      "4800  Released                                                NaN   \n",
      "4801  Released                           A New Yorker in Shanghai   \n",
      "4802  Released                                                NaN   \n",
      "\n",
      "                                         title  vote_average  vote_count  \n",
      "0                                       Avatar           7.2       11800  \n",
      "1     Pirates of the Caribbean: At World's End           6.9        4500  \n",
      "2                                      Spectre           6.3        4466  \n",
      "3                        The Dark Knight Rises           7.6        9106  \n",
      "4                                  John Carter           6.1        2124  \n",
      "...                                        ...           ...         ...  \n",
      "4798                               El Mariachi           6.6         238  \n",
      "4799                                 Newlyweds           5.9           5  \n",
      "4800                 Signed, Sealed, Delivered           7.0           6  \n",
      "4801                          Shanghai Calling           5.7           7  \n",
      "4802                         My Date with Drew           6.3          16  \n",
      "\n",
      "[4803 rows x 20 columns]\n",
      "20\n",
      "4\n"
     ]
    }
   ],
   "source": [
    "file_path1=r'D:\\PROJECTS\\project csv files\\tmdb_5000_credits.csv'\n",
    "file_path2=r'D:\\PROJECTS\\project csv files\\tmdb_5000_movies.csv'\n",
    "credits=pd.read_csv(file_path1)\n",
    "movies=pd.read_csv(file_path2)\n",
    "print(credits)\n",
    "print(movies)\n",
    "print(len(movies.columns))\n",
    "print(len(credits.columns))"
   ]
  },
  {
   "cell_type": "markdown",
   "metadata": {},
   "source": [
    "merging the two datasets"
   ]
  },
  {
   "cell_type": "code",
   "execution_count": 3,
   "metadata": {},
   "outputs": [
    {
     "name": "stdout",
     "output_type": "stream",
     "text": [
      "<class 'pandas.core.frame.DataFrame'>\n",
      "RangeIndex: 4809 entries, 0 to 4808\n",
      "Data columns (total 23 columns):\n",
      " #   Column                Non-Null Count  Dtype  \n",
      "---  ------                --------------  -----  \n",
      " 0   budget                4809 non-null   int64  \n",
      " 1   genres                4809 non-null   object \n",
      " 2   homepage              1713 non-null   object \n",
      " 3   id                    4809 non-null   int64  \n",
      " 4   keywords              4809 non-null   object \n",
      " 5   original_language     4809 non-null   object \n",
      " 6   original_title        4809 non-null   object \n",
      " 7   overview              4806 non-null   object \n",
      " 8   popularity            4809 non-null   float64\n",
      " 9   production_companies  4809 non-null   object \n",
      " 10  production_countries  4809 non-null   object \n",
      " 11  release_date          4808 non-null   object \n",
      " 12  revenue               4809 non-null   int64  \n",
      " 13  runtime               4807 non-null   float64\n",
      " 14  spoken_languages      4809 non-null   object \n",
      " 15  status                4809 non-null   object \n",
      " 16  tagline               3965 non-null   object \n",
      " 17  title                 4809 non-null   object \n",
      " 18  vote_average          4809 non-null   float64\n",
      " 19  vote_count            4809 non-null   int64  \n",
      " 20  movie_id              4809 non-null   int64  \n",
      " 21  cast                  4809 non-null   object \n",
      " 22  crew                  4809 non-null   object \n",
      "dtypes: float64(3), int64(5), object(15)\n",
      "memory usage: 864.2+ KB\n",
      "None\n",
      "      movie_id                                     title  \\\n",
      "0        19995                                    Avatar   \n",
      "1          285  Pirates of the Caribbean: At World's End   \n",
      "2       206647                                   Spectre   \n",
      "3        49026                     The Dark Knight Rises   \n",
      "4        49529                               John Carter   \n",
      "...        ...                                       ...   \n",
      "4804      9367                               El Mariachi   \n",
      "4805     72766                                 Newlyweds   \n",
      "4806    231617                 Signed, Sealed, Delivered   \n",
      "4807    126186                          Shanghai Calling   \n",
      "4808     25975                         My Date with Drew   \n",
      "\n",
      "                                               overview  \\\n",
      "0     In the 22nd century, a paraplegic Marine is di...   \n",
      "1     Captain Barbossa, long believed to be dead, ha...   \n",
      "2     A cryptic message from Bond’s past sends him o...   \n",
      "3     Following the death of District Attorney Harve...   \n",
      "4     John Carter is a war-weary, former military ca...   \n",
      "...                                                 ...   \n",
      "4804  El Mariachi just wants to play his guitar and ...   \n",
      "4805  A newlywed couple's honeymoon is upended by th...   \n",
      "4806  \"Signed, Sealed, Delivered\" introduces a dedic...   \n",
      "4807  When ambitious New York attorney Sam is sent t...   \n",
      "4808  Ever since the second grade when he first saw ...   \n",
      "\n",
      "                                                 genres  \\\n",
      "0     [{\"id\": 28, \"name\": \"Action\"}, {\"id\": 12, \"nam...   \n",
      "1     [{\"id\": 12, \"name\": \"Adventure\"}, {\"id\": 14, \"...   \n",
      "2     [{\"id\": 28, \"name\": \"Action\"}, {\"id\": 12, \"nam...   \n",
      "3     [{\"id\": 28, \"name\": \"Action\"}, {\"id\": 80, \"nam...   \n",
      "4     [{\"id\": 28, \"name\": \"Action\"}, {\"id\": 12, \"nam...   \n",
      "...                                                 ...   \n",
      "4804  [{\"id\": 28, \"name\": \"Action\"}, {\"id\": 80, \"nam...   \n",
      "4805  [{\"id\": 35, \"name\": \"Comedy\"}, {\"id\": 10749, \"...   \n",
      "4806  [{\"id\": 35, \"name\": \"Comedy\"}, {\"id\": 18, \"nam...   \n",
      "4807                                                 []   \n",
      "4808                [{\"id\": 99, \"name\": \"Documentary\"}]   \n",
      "\n",
      "                                               keywords  \\\n",
      "0     [{\"id\": 1463, \"name\": \"culture clash\"}, {\"id\":...   \n",
      "1     [{\"id\": 270, \"name\": \"ocean\"}, {\"id\": 726, \"na...   \n",
      "2     [{\"id\": 470, \"name\": \"spy\"}, {\"id\": 818, \"name...   \n",
      "3     [{\"id\": 849, \"name\": \"dc comics\"}, {\"id\": 853,...   \n",
      "4     [{\"id\": 818, \"name\": \"based on novel\"}, {\"id\":...   \n",
      "...                                                 ...   \n",
      "4804  [{\"id\": 5616, \"name\": \"united states\\u2013mexi...   \n",
      "4805                                                 []   \n",
      "4806  [{\"id\": 248, \"name\": \"date\"}, {\"id\": 699, \"nam...   \n",
      "4807                                                 []   \n",
      "4808  [{\"id\": 1523, \"name\": \"obsession\"}, {\"id\": 224...   \n",
      "\n",
      "                                                   cast  \\\n",
      "0     [{\"cast_id\": 242, \"character\": \"Jake Sully\", \"...   \n",
      "1     [{\"cast_id\": 4, \"character\": \"Captain Jack Spa...   \n",
      "2     [{\"cast_id\": 1, \"character\": \"James Bond\", \"cr...   \n",
      "3     [{\"cast_id\": 2, \"character\": \"Bruce Wayne / Ba...   \n",
      "4     [{\"cast_id\": 5, \"character\": \"John Carter\", \"c...   \n",
      "...                                                 ...   \n",
      "4804  [{\"cast_id\": 1, \"character\": \"El Mariachi\", \"c...   \n",
      "4805  [{\"cast_id\": 1, \"character\": \"Buzzy\", \"credit_...   \n",
      "4806  [{\"cast_id\": 8, \"character\": \"Oliver O\\u2019To...   \n",
      "4807  [{\"cast_id\": 3, \"character\": \"Sam\", \"credit_id...   \n",
      "4808  [{\"cast_id\": 3, \"character\": \"Herself\", \"credi...   \n",
      "\n",
      "                                                   crew  \n",
      "0     [{\"credit_id\": \"52fe48009251416c750aca23\", \"de...  \n",
      "1     [{\"credit_id\": \"52fe4232c3a36847f800b579\", \"de...  \n",
      "2     [{\"credit_id\": \"54805967c3a36829b5002c41\", \"de...  \n",
      "3     [{\"credit_id\": \"52fe4781c3a36847f81398c3\", \"de...  \n",
      "4     [{\"credit_id\": \"52fe479ac3a36847f813eaa3\", \"de...  \n",
      "...                                                 ...  \n",
      "4804  [{\"credit_id\": \"52fe44eec3a36847f80b280b\", \"de...  \n",
      "4805  [{\"credit_id\": \"52fe487dc3a368484e0fb013\", \"de...  \n",
      "4806  [{\"credit_id\": \"52fe4df3c3a36847f8275ecf\", \"de...  \n",
      "4807  [{\"credit_id\": \"52fe4ad9c3a368484e16a36b\", \"de...  \n",
      "4808  [{\"credit_id\": \"58ce021b9251415a390165d9\", \"de...  \n",
      "\n",
      "[4809 rows x 7 columns]\n"
     ]
    }
   ],
   "source": [
    "movies=movies.merge(credits,on='title')\n",
    "print(movies.info())\n",
    "movies=movies[['movie_id','title','overview','genres','keywords','cast','crew']]\n",
    "print(movies)"
   ]
  },
  {
   "cell_type": "markdown",
   "metadata": {},
   "source": [
    "checking the missing values in data"
   ]
  },
  {
   "cell_type": "code",
   "execution_count": 4,
   "metadata": {},
   "outputs": [
    {
     "name": "stdout",
     "output_type": "stream",
     "text": [
      "movie_id    0\n",
      "title       0\n",
      "overview    3\n",
      "genres      0\n",
      "keywords    0\n",
      "cast        0\n",
      "crew        0\n",
      "dtype: int64\n"
     ]
    }
   ],
   "source": [
    "print(movies.isnull().sum())"
   ]
  },
  {
   "cell_type": "markdown",
   "metadata": {},
   "source": [
    "dropping the missing value columns"
   ]
  },
  {
   "cell_type": "code",
   "execution_count": 5,
   "metadata": {},
   "outputs": [
    {
     "name": "stdout",
     "output_type": "stream",
     "text": [
      "movie_id    0\n",
      "title       0\n",
      "overview    0\n",
      "genres      0\n",
      "keywords    0\n",
      "cast        0\n",
      "crew        0\n",
      "dtype: int64\n"
     ]
    }
   ],
   "source": [
    "movies.dropna(inplace=True)\n",
    "print(movies.isnull().sum())"
   ]
  },
  {
   "cell_type": "markdown",
   "metadata": {},
   "source": [
    "checking the data duplicacy in rows"
   ]
  },
  {
   "cell_type": "code",
   "execution_count": 6,
   "metadata": {},
   "outputs": [
    {
     "name": "stdout",
     "output_type": "stream",
     "text": [
      "0\n"
     ]
    }
   ],
   "source": [
    "print(movies.duplicated().sum())"
   ]
  },
  {
   "cell_type": "markdown",
   "metadata": {},
   "source": [
    "setting up the dataset columns"
   ]
  },
  {
   "cell_type": "code",
   "execution_count": 7,
   "metadata": {},
   "outputs": [
    {
     "name": "stdout",
     "output_type": "stream",
     "text": [
      "[{\"id\": 28, \"name\": \"Action\"}, {\"id\": 12, \"name\": \"Adventure\"}, {\"id\": 14, \"name\": \"Fantasy\"}, {\"id\": 878, \"name\": \"Science Fiction\"}]\n",
      "0       [Action, Adventure, Fantasy, Science Fiction]\n",
      "1                        [Adventure, Fantasy, Action]\n",
      "2                          [Action, Adventure, Crime]\n",
      "3                    [Action, Crime, Drama, Thriller]\n",
      "4                [Action, Adventure, Science Fiction]\n",
      "                            ...                      \n",
      "4804                        [Action, Crime, Thriller]\n",
      "4805                                [Comedy, Romance]\n",
      "4806               [Comedy, Drama, Romance, TV Movie]\n",
      "4807                                               []\n",
      "4808                                    [Documentary]\n",
      "Name: genres, Length: 4806, dtype: object\n"
     ]
    }
   ],
   "source": [
    "print(movies['genres'][0])\n",
    "import ast\n",
    "def convert(obj):\n",
    "    l=[]\n",
    "    for i in ast.literal_eval(obj):\n",
    "        l.append(i['name'])\n",
    "\n",
    "    return l\n",
    "\n",
    "    \n",
    "movies['genres']=movies['genres'].apply(convert)\n",
    "print(movies['genres'])\n"
   ]
  },
  {
   "cell_type": "markdown",
   "metadata": {},
   "source": [
    "setting up the dataset columns"
   ]
  },
  {
   "cell_type": "code",
   "execution_count": 8,
   "metadata": {},
   "outputs": [
    {
     "name": "stdout",
     "output_type": "stream",
     "text": [
      "0       [culture clash, future, space war, space colon...\n",
      "1       [ocean, drug abuse, exotic island, east india ...\n",
      "2       [spy, based on novel, secret agent, sequel, mi...\n",
      "3       [dc comics, crime fighter, terrorist, secret i...\n",
      "4       [based on novel, mars, medallion, space travel...\n",
      "                              ...                        \n",
      "4804    [united states–mexico barrier, legs, arms, pap...\n",
      "4805                                                   []\n",
      "4806    [date, love at first sight, narration, investi...\n",
      "4807                                                   []\n",
      "4808            [obsession, camcorder, crush, dream girl]\n",
      "Name: keywords, Length: 4806, dtype: object\n"
     ]
    }
   ],
   "source": [
    "movies['keywords']=movies['keywords'].apply(convert)\n",
    "print(movies['keywords'])"
   ]
  },
  {
   "cell_type": "markdown",
   "metadata": {},
   "source": [
    "setting up the dataset columns"
   ]
  },
  {
   "cell_type": "code",
   "execution_count": 9,
   "metadata": {},
   "outputs": [],
   "source": [
    "import ast\n",
    "def convert3(obj):\n",
    "    counter=0\n",
    "    l=[]\n",
    "    for i in ast.literal_eval(obj):\n",
    "            if counter!=3:\n",
    "                l.append(i['name'])\n",
    "                counter=counter+1\n",
    "            else:\n",
    "                break\n",
    "    return l\n",
    "\n",
    "movies['cast']=movies['cast'].apply(convert3)"
   ]
  },
  {
   "cell_type": "markdown",
   "metadata": {},
   "source": [
    "setting up the dataset columns"
   ]
  },
  {
   "cell_type": "code",
   "execution_count": 10,
   "metadata": {},
   "outputs": [
    {
     "name": "stdout",
     "output_type": "stream",
     "text": [
      "      movie_id                                     title  \\\n",
      "0        19995                                    Avatar   \n",
      "1          285  Pirates of the Caribbean: At World's End   \n",
      "2       206647                                   Spectre   \n",
      "3        49026                     The Dark Knight Rises   \n",
      "4        49529                               John Carter   \n",
      "...        ...                                       ...   \n",
      "4804      9367                               El Mariachi   \n",
      "4805     72766                                 Newlyweds   \n",
      "4806    231617                 Signed, Sealed, Delivered   \n",
      "4807    126186                          Shanghai Calling   \n",
      "4808     25975                         My Date with Drew   \n",
      "\n",
      "                                               overview  \\\n",
      "0     In the 22nd century, a paraplegic Marine is di...   \n",
      "1     Captain Barbossa, long believed to be dead, ha...   \n",
      "2     A cryptic message from Bond’s past sends him o...   \n",
      "3     Following the death of District Attorney Harve...   \n",
      "4     John Carter is a war-weary, former military ca...   \n",
      "...                                                 ...   \n",
      "4804  El Mariachi just wants to play his guitar and ...   \n",
      "4805  A newlywed couple's honeymoon is upended by th...   \n",
      "4806  \"Signed, Sealed, Delivered\" introduces a dedic...   \n",
      "4807  When ambitious New York attorney Sam is sent t...   \n",
      "4808  Ever since the second grade when he first saw ...   \n",
      "\n",
      "                                             genres  \\\n",
      "0     [Action, Adventure, Fantasy, Science Fiction]   \n",
      "1                      [Adventure, Fantasy, Action]   \n",
      "2                        [Action, Adventure, Crime]   \n",
      "3                  [Action, Crime, Drama, Thriller]   \n",
      "4              [Action, Adventure, Science Fiction]   \n",
      "...                                             ...   \n",
      "4804                      [Action, Crime, Thriller]   \n",
      "4805                              [Comedy, Romance]   \n",
      "4806             [Comedy, Drama, Romance, TV Movie]   \n",
      "4807                                             []   \n",
      "4808                                  [Documentary]   \n",
      "\n",
      "                                               keywords  \\\n",
      "0     [culture clash, future, space war, space colon...   \n",
      "1     [ocean, drug abuse, exotic island, east india ...   \n",
      "2     [spy, based on novel, secret agent, sequel, mi...   \n",
      "3     [dc comics, crime fighter, terrorist, secret i...   \n",
      "4     [based on novel, mars, medallion, space travel...   \n",
      "...                                                 ...   \n",
      "4804  [united states–mexico barrier, legs, arms, pap...   \n",
      "4805                                                 []   \n",
      "4806  [date, love at first sight, narration, investi...   \n",
      "4807                                                 []   \n",
      "4808          [obsession, camcorder, crush, dream girl]   \n",
      "\n",
      "                                                   cast                 crew  \n",
      "0      [Sam Worthington, Zoe Saldana, Sigourney Weaver]      [James Cameron]  \n",
      "1         [Johnny Depp, Orlando Bloom, Keira Knightley]     [Gore Verbinski]  \n",
      "2          [Daniel Craig, Christoph Waltz, Léa Seydoux]         [Sam Mendes]  \n",
      "3          [Christian Bale, Michael Caine, Gary Oldman]  [Christopher Nolan]  \n",
      "4        [Taylor Kitsch, Lynn Collins, Samantha Morton]     [Andrew Stanton]  \n",
      "...                                                 ...                  ...  \n",
      "4804  [Carlos Gallardo, Jaime de Hoyos, Peter Marqua...   [Robert Rodriguez]  \n",
      "4805       [Edward Burns, Kerry Bishé, Marsha Dietlein]       [Edward Burns]  \n",
      "4806         [Eric Mabius, Kristin Booth, Crystal Lowe]        [Scott Smith]  \n",
      "4807          [Daniel Henney, Eliza Coupe, Bill Paxton]        [Daniel Hsia]  \n",
      "4808  [Drew Barrymore, Brian Herzlinger, Corey Feldman]   [Brian Herzlinger]  \n",
      "\n",
      "[4806 rows x 7 columns]\n"
     ]
    }
   ],
   "source": [
    "import ast\n",
    "def convert4(obj):\n",
    "    l=[]\n",
    "    for i in ast.literal_eval(obj):\n",
    "        if i['job']=='Director':\n",
    "             l.append(i['name'])\n",
    "             break\n",
    "        \n",
    "    return l\n",
    "movies['crew']=movies['crew'].apply(convert4)\n",
    "print(movies)"
   ]
  },
  {
   "cell_type": "markdown",
   "metadata": {},
   "source": [
    "removing the white spaces"
   ]
  },
  {
   "cell_type": "code",
   "execution_count": 11,
   "metadata": {},
   "outputs": [],
   "source": [
    "movies['overview']=movies['overview'].apply(lambda x:x.split())\n",
    "movies['crew']=movies['crew'].apply(lambda x:[i.replace(\" \",\"\")for i in x] )\n",
    "movies['genres']=movies['genres'].apply(lambda x:[i.replace(\" \",\"\")for i in x]if x is not None else []) \n",
    "movies['keywords']=movies['keywords'].apply(lambda x:[i.replace(\" \",\"\")for i in x]if x is not None else [] )\n",
    "movies['cast']=movies['cast'].apply(lambda x:[i.replace(\" \",\"\")for i in x]if x is not None else [] )"
   ]
  },
  {
   "cell_type": "markdown",
   "metadata": {},
   "source": [
    "combining the datasets"
   ]
  },
  {
   "cell_type": "code",
   "execution_count": 12,
   "metadata": {},
   "outputs": [],
   "source": [
    "movies['tags']=movies['overview']+movies['genres']+movies['keywords']+movies['cast']+movies['crew']"
   ]
  },
  {
   "cell_type": "markdown",
   "metadata": {},
   "source": [
    "forming the new columns"
   ]
  },
  {
   "cell_type": "code",
   "execution_count": 13,
   "metadata": {},
   "outputs": [],
   "source": [
    "new_movies=movies[['movie_id','title','tags']]"
   ]
  },
  {
   "cell_type": "markdown",
   "metadata": {},
   "source": [
    "# new_movies['tags']=new_movies['tags'].apply(lambda x:\" \".join(x))"
   ]
  },
  {
   "cell_type": "code",
   "execution_count": 14,
   "metadata": {},
   "outputs": [
    {
     "name": "stderr",
     "output_type": "stream",
     "text": [
      "C:\\Users\\choud\\AppData\\Local\\Temp\\ipykernel_11328\\1844871643.py:1: SettingWithCopyWarning: \n",
      "A value is trying to be set on a copy of a slice from a DataFrame.\n",
      "Try using .loc[row_indexer,col_indexer] = value instead\n",
      "\n",
      "See the caveats in the documentation: https://pandas.pydata.org/pandas-docs/stable/user_guide/indexing.html#returning-a-view-versus-a-copy\n",
      "  new_movies['tags']=new_movies['tags'].apply(lambda x:\" \".join(x))\n"
     ]
    }
   ],
   "source": [
    "    \n",
    "new_movies['tags']=new_movies['tags'].apply(lambda x:\" \".join(x))"
   ]
  },
  {
   "cell_type": "markdown",
   "metadata": {},
   "source": [
    "solidfying the vectors columns for selecting the varities of popular words "
   ]
  },
  {
   "cell_type": "code",
   "execution_count": 15,
   "metadata": {},
   "outputs": [
    {
     "name": "stderr",
     "output_type": "stream",
     "text": [
      "C:\\Users\\choud\\AppData\\Local\\Temp\\ipykernel_11328\\27928694.py:12: SettingWithCopyWarning: \n",
      "A value is trying to be set on a copy of a slice from a DataFrame.\n",
      "Try using .loc[row_indexer,col_indexer] = value instead\n",
      "\n",
      "See the caveats in the documentation: https://pandas.pydata.org/pandas-docs/stable/user_guide/indexing.html#returning-a-view-versus-a-copy\n",
      "  new_movies['tags']=new_movies['tags'].apply(stem)\n"
     ]
    }
   ],
   "source": [
    "import nltk\n",
    "from nltk.stem.porter import PorterStemmer\n",
    "ps=PorterStemmer()\n",
    "\n",
    "def stem(text):\n",
    "     y=[]\n",
    "     for i in text.split():\n",
    "          y.append(ps.stem(i))\n",
    "\n",
    "     return\"\".join(y)\n",
    "     \n",
    "new_movies['tags']=new_movies['tags'].apply(stem)"
   ]
  },
  {
   "cell_type": "markdown",
   "metadata": {},
   "source": [
    "converting the data into vectors for distance measurement"
   ]
  },
  {
   "cell_type": "code",
   "execution_count": 16,
   "metadata": {},
   "outputs": [
    {
     "name": "stdout",
     "output_type": "stream",
     "text": [
      "[0 0 0 ... 0 0 0]\n",
      "['00' '000' '10' ... 'zebra' 'zombies' 'zooeydeschanel']\n"
     ]
    }
   ],
   "source": [
    "from sklearn.feature_extraction.text import CountVectorizer\n",
    "cv =CountVectorizer(stop_words='english',max_features=5000)\n",
    "vectors =cv.fit_transform(new_movies['tags']).toarray()\n",
    "print(vectors[0])\n",
    "print(cv.get_feature_names_out())\n"
   ]
  },
  {
   "cell_type": "markdown",
   "metadata": {},
   "source": [
    "measuring the distance by cosine measurement"
   ]
  },
  {
   "cell_type": "code",
   "execution_count": 17,
   "metadata": {},
   "outputs": [
    {
     "name": "stdout",
     "output_type": "stream",
     "text": [
      "movieee nameeee\n",
      "0.0\n"
     ]
    }
   ],
   "source": [
    "from sklearn.metrics.pairwise import cosine_similarity\n",
    "similarity=cosine_similarity(vectors)\n",
    "#print(\"movieee nameeee\")\n",
    "#print(similarity[6,5])\n"
   ]
  },
  {
   "cell_type": "markdown",
   "metadata": {},
   "source": [
    "final functon to recommend the movie"
   ]
  },
  {
   "cell_type": "code",
   "execution_count": 18,
   "metadata": {},
   "outputs": [
    {
     "name": "stdout",
     "output_type": "stream",
     "text": [
      "    movie_id       title                                               tags\n",
      "79     10138  Iron Man 2  withtheworldnowawarofhiduallifeasthearmorsuper...\n",
      "Recommended movies for Iron Man 2\n",
      "Pirates of the Caribbean: At World's End\n",
      "Spectre\n",
      "The Dark Knight Rises\n",
      "John Carter\n",
      "Spider-Man 3\n",
      "Tangled\n"
     ]
    }
   ],
   "source": [
    "def recommended(movie):\n",
    "    print(new_movies[new_movies['title'] == movie])\n",
    "    movie_index = new_movies[new_movies['title'] == movie].index[0]\n",
    "    distances = similarity[movie_index]\n",
    "    movies_list = sorted(list(enumerate(distances)),reverse=True, key=lambda x: x[1])[1:7]\n",
    "    print(\"Recommended movies for\", movie)\n",
    "    \n",
    "    for i in range(6):  # Loop through the top 6 recommendations\n",
    "        print(new_movies.iloc[movies_list[i][0]]['title'])\n",
    "\n",
    "recommended('Iron Man 2')\n",
    "\n",
    "\n"
   ]
  },
  {
   "cell_type": "code",
   "execution_count": null,
   "metadata": {},
   "outputs": [],
   "source": []
  }
 ],
 "metadata": {
  "kernelspec": {
   "display_name": "Python 3 (ipykernel)",
   "language": "python",
   "name": "python3"
  },
  "language_info": {
   "codemirror_mode": {
    "name": "ipython",
    "version": 3
   },
   "file_extension": ".py",
   "mimetype": "text/x-python",
   "name": "python",
   "nbconvert_exporter": "python",
   "pygments_lexer": "ipython3",
   "version": "3.11.5"
  }
 },
 "nbformat": 4,
 "nbformat_minor": 4
}
